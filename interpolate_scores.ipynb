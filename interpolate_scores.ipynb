{
 "cells": [
  {
   "cell_type": "code",
   "execution_count": 1,
   "metadata": {},
   "outputs": [],
   "source": [
    "import os\n",
    "import numpy as np\n",
    "import pandas as pd\n",
    "import matplotlib.pyplot as plt"
   ]
  },
  {
   "cell_type": "code",
   "execution_count": 3,
   "metadata": {},
   "outputs": [
    {
     "data": {
      "text/plain": [
       "dict_keys(['electricity', 'fertility_rate', 'gdp', 'immunization', 'life_expectancy', 'school_enrollment_secondary', 'school_enrollment_tertiary'])"
      ]
     },
     "execution_count": 3,
     "metadata": {},
     "output_type": "execute_result"
    }
   ],
   "source": [
    "path = \"interpolated_data/\"\n",
    "data = {}\n",
    "\n",
    "for fname in os.listdir(path):\n",
    "    if \"logs-\" not in fname: continue\n",
    "    fdata = pd.read_csv(os.path.join(path, fname))\n",
    "    data[fname.replace(\".csv\", \"\").replace(\"logs-\", \"\")] = fdata\n",
    "\n",
    "data.keys()"
   ]
  },
  {
   "cell_type": "code",
   "execution_count": 41,
   "metadata": {},
   "outputs": [],
   "source": [
    "def scores_mapping(data: pd.DataFrame, name):\n",
    "    r2 = data[\"r2\"].to_list()\n",
    "    for i in range(len(r2)):\n",
    "        if r2[i] < 0: r2[i] = 0\n",
    "    vr2 = data[\"val r2\"].to_list()\n",
    "    for i in range(len(vr2)):\n",
    "        if vr2[i] < 0: vr2[i] = 0\n",
    "    \n",
    "    r2 = pd.Series(r2).median()\n",
    "    mae = data[\"mae\"].median()\n",
    "    mape = data[\"mape\"].median()\n",
    "    rmse = data[\"rmse\"].median()\n",
    "    # vr2 = data[\"val r2\"].median()\n",
    "    vr2 = pd.Series(vr2).median()\n",
    "    vmae = data[\"val mae\"].median()\n",
    "    vmape = data[\"val mape\"].median()\n",
    "    vrmse = data[\"val rmse\"].median()\n",
    "    r2, mae, mape, rmse = round(r2, 3), round(mae, 3), round(mape, 3), round(rmse, 3)\n",
    "    vr2, vmae, vmape, vrmse = round(vr2, 3), round(vmae, 3), round(vmape, 3), round(vrmse, 3)\n",
    "    return [name, r2, mae, mape, rmse, vr2, vmae, vmape, vrmse]"
   ]
  },
  {
   "cell_type": "code",
   "execution_count": 42,
   "metadata": {},
   "outputs": [
    {
     "data": {
      "text/html": [
       "<table>\n",
       "    <thead>\n",
       "        <tr>\n",
       "            <th>Indicator Name</th>\n",
       "            <th>R2</th>\n",
       "            <th>MAE</th>\n",
       "            <th>MAPE</th>\n",
       "            <th>RMSE</th>\n",
       "            <th>val R2</th>\n",
       "            <th>val MAE</th>\n",
       "            <th>val MAPE</th>\n",
       "            <th>val RMSE</th>\n",
       "        </tr>\n",
       "    </thead>\n",
       "    <tbody>\n",
       "        <tr>\n",
       "            <td>Electricity</td>\n",
       "            <td>0.645</td>\n",
       "            <td>0.013</td>\n",
       "            <td>0.002</td>\n",
       "            <td>0.017</td>\n",
       "            <td>0.053</td>\n",
       "            <td>0.013</td>\n",
       "            <td>0.001</td>\n",
       "            <td>0.016</td>\n",
       "        </tr>\n",
       "        <tr>\n",
       "            <td>Fertility rate</td>\n",
       "            <td>0.829</td>\n",
       "            <td>0.14</td>\n",
       "            <td>0.065</td>\n",
       "            <td>0.165</td>\n",
       "            <td>0.0</td>\n",
       "            <td>0.181</td>\n",
       "            <td>0.125</td>\n",
       "            <td>0.191</td>\n",
       "        </tr>\n",
       "        <tr>\n",
       "            <td>Gdp</td>\n",
       "            <td>0.768</td>\n",
       "            <td>295.263</td>\n",
       "            <td>0.299</td>\n",
       "            <td>414.516</td>\n",
       "            <td>0.0</td>\n",
       "            <td>538.312</td>\n",
       "            <td>0.164</td>\n",
       "            <td>697.918</td>\n",
       "        </tr>\n",
       "        <tr>\n",
       "            <td>Immunization</td>\n",
       "            <td>0.495</td>\n",
       "            <td>0.16</td>\n",
       "            <td>0.037</td>\n",
       "            <td>0.216</td>\n",
       "            <td>0.0</td>\n",
       "            <td>0.12</td>\n",
       "            <td>0.025</td>\n",
       "            <td>0.143</td>\n",
       "        </tr>\n",
       "        <tr>\n",
       "            <td>Life expectancy</td>\n",
       "            <td>0.925</td>\n",
       "            <td>0.028</td>\n",
       "            <td>0.006</td>\n",
       "            <td>0.035</td>\n",
       "            <td>0.0</td>\n",
       "            <td>0.038</td>\n",
       "            <td>0.007</td>\n",
       "            <td>0.039</td>\n",
       "        </tr>\n",
       "        <tr>\n",
       "            <td>School enrollment secondary</td>\n",
       "            <td>0.802</td>\n",
       "            <td>0.211</td>\n",
       "            <td>0.037</td>\n",
       "            <td>0.248</td>\n",
       "            <td>0.0</td>\n",
       "            <td>0.208</td>\n",
       "            <td>0.035</td>\n",
       "            <td>0.247</td>\n",
       "        </tr>\n",
       "        <tr>\n",
       "            <td>School enrollment tertiary</td>\n",
       "            <td>0.791</td>\n",
       "            <td>0.755</td>\n",
       "            <td>0.192</td>\n",
       "            <td>0.926</td>\n",
       "            <td>0.104</td>\n",
       "            <td>0.993</td>\n",
       "            <td>0.125</td>\n",
       "            <td>1.316</td>\n",
       "        </tr>\n",
       "    </tbody>\n",
       "</table>"
      ],
      "text/plain": [
       "+-----------------------------+-------+---------+-------+---------+--------+---------+----------+----------+\n",
       "|        Indicator Name       |   R2  |   MAE   |  MAPE |   RMSE  | val R2 | val MAE | val MAPE | val RMSE |\n",
       "+-----------------------------+-------+---------+-------+---------+--------+---------+----------+----------+\n",
       "|         Electricity         | 0.645 |  0.013  | 0.002 |  0.017  | 0.053  |  0.013  |  0.001   |  0.016   |\n",
       "|        Fertility rate       | 0.829 |   0.14  | 0.065 |  0.165  |  0.0   |  0.181  |  0.125   |  0.191   |\n",
       "|             Gdp             | 0.768 | 295.263 | 0.299 | 414.516 |  0.0   | 538.312 |  0.164   | 697.918  |\n",
       "|         Immunization        | 0.495 |   0.16  | 0.037 |  0.216  |  0.0   |   0.12  |  0.025   |  0.143   |\n",
       "|       Life expectancy       | 0.925 |  0.028  | 0.006 |  0.035  |  0.0   |  0.038  |  0.007   |  0.039   |\n",
       "| School enrollment secondary | 0.802 |  0.211  | 0.037 |  0.248  |  0.0   |  0.208  |  0.035   |  0.247   |\n",
       "|  School enrollment tertiary | 0.791 |  0.755  | 0.192 |  0.926  | 0.104  |  0.993  |  0.125   |  1.316   |\n",
       "+-----------------------------+-------+---------+-------+---------+--------+---------+----------+----------+"
      ]
     },
     "execution_count": 42,
     "metadata": {},
     "output_type": "execute_result"
    }
   ],
   "source": [
    "from prettytable import PrettyTable\n",
    "x = PrettyTable()\n",
    "x.field_names = [\"Indicator Name\", \"R2\", \"MAE\", \"MAPE\", \"RMSE\", \"val R2\", \"val MAE\", \"val MAPE\", \"val RMSE\"]\n",
    "\n",
    "for k in data.keys():\n",
    "    df = data[k]\n",
    "    name = str(k).replace(\"_\", \" \").capitalize()\n",
    "    row = scores_mapping(df, name)\n",
    "    x.add_row(row)\n",
    "\n",
    "x"
   ]
  }
 ],
 "metadata": {
  "kernelspec": {
   "display_name": "Python 3",
   "language": "python",
   "name": "python3"
  },
  "language_info": {
   "codemirror_mode": {
    "name": "ipython",
    "version": 3
   },
   "file_extension": ".py",
   "mimetype": "text/x-python",
   "name": "python",
   "nbconvert_exporter": "python",
   "pygments_lexer": "ipython3",
   "version": "3.8.6"
  },
  "orig_nbformat": 4
 },
 "nbformat": 4,
 "nbformat_minor": 2
}
