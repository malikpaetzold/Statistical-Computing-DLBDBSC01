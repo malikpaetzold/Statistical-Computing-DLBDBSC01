{
 "cells": [
  {
   "cell_type": "code",
   "execution_count": 19,
   "metadata": {},
   "outputs": [],
   "source": [
    "import os\n",
    "import numpy as np\n",
    "import pandas as pd\n",
    "import matplotlib.pyplot as plt"
   ]
  },
  {
   "cell_type": "code",
   "execution_count": 20,
   "metadata": {},
   "outputs": [],
   "source": [
    "def describe(data_path):\n",
    "    data = pd.read_csv(data_path)\n",
    "    print(data.keys())\n",
    "    data.drop([\"Unnamed: 0\", \"Country Name\", \"Country Code\", \"Unnamed: 67\"], axis=1, inplace=True)\n",
    "    return data.head(10)"
   ]
  },
  {
   "cell_type": "code",
   "execution_count": 43,
   "metadata": {},
   "outputs": [
    {
     "name": "stdout",
     "output_type": "stream",
     "text": [
      "Index(['Unnamed: 0', 'Country Name', 'Country Code', '1960', '1961', '1962',\n",
      "       '1963', '1964', '1965', '1966', '1967', '1968', '1969', '1970', '1971',\n",
      "       '1972', '1973', '1974', '1975', '1976', '1977', '1978', '1979', '1980',\n",
      "       '1981', '1982', '1983', '1984', '1985', '1986', '1987', '1988', '1989',\n",
      "       '1990', '1991', '1992', '1993', '1994', '1995', '1996', '1997', '1998',\n",
      "       '1999', '2000', '2001', '2002', '2003', '2004', '2005', '2006', '2007',\n",
      "       '2008', '2009', '2010', '2011', '2012', '2013', '2014', '2015', '2016',\n",
      "       '2017', '2018', '2019', '2020', '2021', '2022', 'Unnamed: 67'],\n",
      "      dtype='object')\n"
     ]
    }
   ],
   "source": [
    "data = describe(\"clean_data/school_enrollment_secondary_gross.csv\")"
   ]
  },
  {
   "cell_type": "code",
   "execution_count": 44,
   "metadata": {},
   "outputs": [
    {
     "name": "stdout",
     "output_type": "stream",
     "text": [
      "1.28366994857788\n",
      "163.934722900391\n"
     ]
    }
   ],
   "source": [
    "arr = data.to_numpy()\n",
    "data = pd.Series(arr.flatten())\n",
    "data.dropna(inplace=True)\n",
    "\n",
    "print(data.min())\n",
    "print(data.max())"
   ]
  }
 ],
 "metadata": {
  "kernelspec": {
   "display_name": "Python 3",
   "language": "python",
   "name": "python3"
  },
  "language_info": {
   "codemirror_mode": {
    "name": "ipython",
    "version": 3
   },
   "file_extension": ".py",
   "mimetype": "text/x-python",
   "name": "python",
   "nbconvert_exporter": "python",
   "pygments_lexer": "ipython3",
   "version": "3.8.6"
  },
  "orig_nbformat": 4
 },
 "nbformat": 4,
 "nbformat_minor": 2
}
