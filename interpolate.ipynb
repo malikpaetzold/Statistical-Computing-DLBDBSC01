{
 "cells": [
  {
   "cell_type": "code",
   "execution_count": 15,
   "metadata": {},
   "outputs": [],
   "source": [
    "import os\n",
    "import pandas as pd\n",
    "import matplotlib.pyplot as plt\n",
    "import numpy as np"
   ]
  },
  {
   "cell_type": "code",
   "execution_count": 16,
   "metadata": {},
   "outputs": [
    {
     "data": {
      "text/html": [
       "<div>\n",
       "<style scoped>\n",
       "    .dataframe tbody tr th:only-of-type {\n",
       "        vertical-align: middle;\n",
       "    }\n",
       "\n",
       "    .dataframe tbody tr th {\n",
       "        vertical-align: top;\n",
       "    }\n",
       "\n",
       "    .dataframe thead th {\n",
       "        text-align: right;\n",
       "    }\n",
       "</style>\n",
       "<table border=\"1\" class=\"dataframe\">\n",
       "  <thead>\n",
       "    <tr style=\"text-align: right;\">\n",
       "      <th></th>\n",
       "      <th>Unnamed: 0</th>\n",
       "      <th>Country Name</th>\n",
       "      <th>Country Code</th>\n",
       "      <th>1960</th>\n",
       "      <th>1961</th>\n",
       "      <th>1962</th>\n",
       "      <th>1963</th>\n",
       "      <th>1964</th>\n",
       "      <th>1965</th>\n",
       "      <th>1966</th>\n",
       "      <th>...</th>\n",
       "      <th>2014</th>\n",
       "      <th>2015</th>\n",
       "      <th>2016</th>\n",
       "      <th>2017</th>\n",
       "      <th>2018</th>\n",
       "      <th>2019</th>\n",
       "      <th>2020</th>\n",
       "      <th>2021</th>\n",
       "      <th>2022</th>\n",
       "      <th>Unnamed: 67</th>\n",
       "    </tr>\n",
       "  </thead>\n",
       "  <tbody>\n",
       "    <tr>\n",
       "      <th>0</th>\n",
       "      <td>0</td>\n",
       "      <td>Aruba</td>\n",
       "      <td>ABW</td>\n",
       "      <td>NaN</td>\n",
       "      <td>NaN</td>\n",
       "      <td>NaN</td>\n",
       "      <td>NaN</td>\n",
       "      <td>NaN</td>\n",
       "      <td>NaN</td>\n",
       "      <td>NaN</td>\n",
       "      <td>...</td>\n",
       "      <td>26942.307976</td>\n",
       "      <td>28421.386493</td>\n",
       "      <td>28451.273745</td>\n",
       "      <td>29326.708058</td>\n",
       "      <td>30918.515218</td>\n",
       "      <td>31902.762582</td>\n",
       "      <td>24487.863569</td>\n",
       "      <td>29342.100730</td>\n",
       "      <td>NaN</td>\n",
       "      <td>NaN</td>\n",
       "    </tr>\n",
       "    <tr>\n",
       "      <th>1</th>\n",
       "      <td>2</td>\n",
       "      <td>Afghanistan</td>\n",
       "      <td>AFG</td>\n",
       "      <td>62.369375</td>\n",
       "      <td>62.443703</td>\n",
       "      <td>60.950364</td>\n",
       "      <td>82.021738</td>\n",
       "      <td>85.511073</td>\n",
       "      <td>105.243196</td>\n",
       "      <td>143.103233</td>\n",
       "      <td>...</td>\n",
       "      <td>628.146804</td>\n",
       "      <td>592.476165</td>\n",
       "      <td>520.251955</td>\n",
       "      <td>530.149863</td>\n",
       "      <td>502.057099</td>\n",
       "      <td>500.522981</td>\n",
       "      <td>516.866797</td>\n",
       "      <td>363.674087</td>\n",
       "      <td>NaN</td>\n",
       "      <td>NaN</td>\n",
       "    </tr>\n",
       "    <tr>\n",
       "      <th>2</th>\n",
       "      <td>4</td>\n",
       "      <td>Angola</td>\n",
       "      <td>AGO</td>\n",
       "      <td>NaN</td>\n",
       "      <td>NaN</td>\n",
       "      <td>NaN</td>\n",
       "      <td>NaN</td>\n",
       "      <td>NaN</td>\n",
       "      <td>NaN</td>\n",
       "      <td>NaN</td>\n",
       "      <td>...</td>\n",
       "      <td>5059.080441</td>\n",
       "      <td>3100.830685</td>\n",
       "      <td>1709.515534</td>\n",
       "      <td>2283.214233</td>\n",
       "      <td>2487.500996</td>\n",
       "      <td>2142.238757</td>\n",
       "      <td>1502.950754</td>\n",
       "      <td>1903.717405</td>\n",
       "      <td>2998.501158</td>\n",
       "      <td>NaN</td>\n",
       "    </tr>\n",
       "    <tr>\n",
       "      <th>3</th>\n",
       "      <td>5</td>\n",
       "      <td>Albania</td>\n",
       "      <td>ALB</td>\n",
       "      <td>NaN</td>\n",
       "      <td>NaN</td>\n",
       "      <td>NaN</td>\n",
       "      <td>NaN</td>\n",
       "      <td>NaN</td>\n",
       "      <td>NaN</td>\n",
       "      <td>NaN</td>\n",
       "      <td>...</td>\n",
       "      <td>4578.633208</td>\n",
       "      <td>3952.803584</td>\n",
       "      <td>4124.055390</td>\n",
       "      <td>4531.032207</td>\n",
       "      <td>5287.660817</td>\n",
       "      <td>5396.214227</td>\n",
       "      <td>5343.037704</td>\n",
       "      <td>6377.203096</td>\n",
       "      <td>6802.804519</td>\n",
       "      <td>NaN</td>\n",
       "    </tr>\n",
       "    <tr>\n",
       "      <th>4</th>\n",
       "      <td>6</td>\n",
       "      <td>Andorra</td>\n",
       "      <td>AND</td>\n",
       "      <td>NaN</td>\n",
       "      <td>NaN</td>\n",
       "      <td>NaN</td>\n",
       "      <td>NaN</td>\n",
       "      <td>NaN</td>\n",
       "      <td>NaN</td>\n",
       "      <td>NaN</td>\n",
       "      <td>...</td>\n",
       "      <td>45680.534990</td>\n",
       "      <td>38885.530324</td>\n",
       "      <td>39931.216982</td>\n",
       "      <td>40632.231554</td>\n",
       "      <td>42904.828456</td>\n",
       "      <td>41328.600499</td>\n",
       "      <td>37207.222000</td>\n",
       "      <td>42072.341103</td>\n",
       "      <td>41992.793358</td>\n",
       "      <td>NaN</td>\n",
       "    </tr>\n",
       "    <tr>\n",
       "      <th>5</th>\n",
       "      <td>8</td>\n",
       "      <td>United Arab Emirates</td>\n",
       "      <td>ARE</td>\n",
       "      <td>NaN</td>\n",
       "      <td>NaN</td>\n",
       "      <td>NaN</td>\n",
       "      <td>NaN</td>\n",
       "      <td>NaN</td>\n",
       "      <td>NaN</td>\n",
       "      <td>NaN</td>\n",
       "      <td>...</td>\n",
       "      <td>46865.964598</td>\n",
       "      <td>41525.138904</td>\n",
       "      <td>41054.539570</td>\n",
       "      <td>43063.967479</td>\n",
       "      <td>46722.268719</td>\n",
       "      <td>45376.170839</td>\n",
       "      <td>37629.174168</td>\n",
       "      <td>44315.554184</td>\n",
       "      <td>53757.863251</td>\n",
       "      <td>NaN</td>\n",
       "    </tr>\n",
       "    <tr>\n",
       "      <th>6</th>\n",
       "      <td>9</td>\n",
       "      <td>Argentina</td>\n",
       "      <td>ARG</td>\n",
       "      <td>NaN</td>\n",
       "      <td>NaN</td>\n",
       "      <td>1163.186836</td>\n",
       "      <td>855.275656</td>\n",
       "      <td>1179.504098</td>\n",
       "      <td>1285.260799</td>\n",
       "      <td>1277.968419</td>\n",
       "      <td>...</td>\n",
       "      <td>12334.798245</td>\n",
       "      <td>13789.060425</td>\n",
       "      <td>12790.264064</td>\n",
       "      <td>14613.035715</td>\n",
       "      <td>11795.162885</td>\n",
       "      <td>9963.674231</td>\n",
       "      <td>8496.428157</td>\n",
       "      <td>10636.115530</td>\n",
       "      <td>13686.008674</td>\n",
       "      <td>NaN</td>\n",
       "    </tr>\n",
       "    <tr>\n",
       "      <th>7</th>\n",
       "      <td>10</td>\n",
       "      <td>Armenia</td>\n",
       "      <td>ARM</td>\n",
       "      <td>NaN</td>\n",
       "      <td>NaN</td>\n",
       "      <td>NaN</td>\n",
       "      <td>NaN</td>\n",
       "      <td>NaN</td>\n",
       "      <td>NaN</td>\n",
       "      <td>NaN</td>\n",
       "      <td>...</td>\n",
       "      <td>4017.229913</td>\n",
       "      <td>3666.141825</td>\n",
       "      <td>3679.952349</td>\n",
       "      <td>4041.995072</td>\n",
       "      <td>4391.923274</td>\n",
       "      <td>4828.504889</td>\n",
       "      <td>4505.867746</td>\n",
       "      <td>4966.513471</td>\n",
       "      <td>7014.206592</td>\n",
       "      <td>NaN</td>\n",
       "    </tr>\n",
       "    <tr>\n",
       "      <th>8</th>\n",
       "      <td>12</td>\n",
       "      <td>Antigua and Barbuda</td>\n",
       "      <td>ATG</td>\n",
       "      <td>NaN</td>\n",
       "      <td>NaN</td>\n",
       "      <td>NaN</td>\n",
       "      <td>NaN</td>\n",
       "      <td>NaN</td>\n",
       "      <td>NaN</td>\n",
       "      <td>NaN</td>\n",
       "      <td>...</td>\n",
       "      <td>14004.811212</td>\n",
       "      <td>14861.882707</td>\n",
       "      <td>15862.651663</td>\n",
       "      <td>16110.312400</td>\n",
       "      <td>17514.355864</td>\n",
       "      <td>18187.779712</td>\n",
       "      <td>15284.772384</td>\n",
       "      <td>16740.348196</td>\n",
       "      <td>18745.173509</td>\n",
       "      <td>NaN</td>\n",
       "    </tr>\n",
       "    <tr>\n",
       "      <th>9</th>\n",
       "      <td>13</td>\n",
       "      <td>Australia</td>\n",
       "      <td>AUS</td>\n",
       "      <td>1810.597443</td>\n",
       "      <td>1877.600224</td>\n",
       "      <td>1854.641891</td>\n",
       "      <td>1967.108991</td>\n",
       "      <td>2131.380300</td>\n",
       "      <td>2281.011956</td>\n",
       "      <td>2343.819790</td>\n",
       "      <td>...</td>\n",
       "      <td>62515.314832</td>\n",
       "      <td>56708.961197</td>\n",
       "      <td>49876.712376</td>\n",
       "      <td>53934.154374</td>\n",
       "      <td>57206.990670</td>\n",
       "      <td>54941.065720</td>\n",
       "      <td>51722.069000</td>\n",
       "      <td>60444.502355</td>\n",
       "      <td>64491.429886</td>\n",
       "      <td>NaN</td>\n",
       "    </tr>\n",
       "  </tbody>\n",
       "</table>\n",
       "<p>10 rows × 67 columns</p>\n",
       "</div>"
      ],
      "text/plain": [
       "   Unnamed: 0          Country Name Country Code         1960         1961  \\\n",
       "0           0                 Aruba          ABW          NaN          NaN   \n",
       "1           2           Afghanistan          AFG    62.369375    62.443703   \n",
       "2           4                Angola          AGO          NaN          NaN   \n",
       "3           5               Albania          ALB          NaN          NaN   \n",
       "4           6               Andorra          AND          NaN          NaN   \n",
       "5           8  United Arab Emirates          ARE          NaN          NaN   \n",
       "6           9             Argentina          ARG          NaN          NaN   \n",
       "7          10               Armenia          ARM          NaN          NaN   \n",
       "8          12   Antigua and Barbuda          ATG          NaN          NaN   \n",
       "9          13             Australia          AUS  1810.597443  1877.600224   \n",
       "\n",
       "          1962         1963         1964         1965         1966  ...  \\\n",
       "0          NaN          NaN          NaN          NaN          NaN  ...   \n",
       "1    60.950364    82.021738    85.511073   105.243196   143.103233  ...   \n",
       "2          NaN          NaN          NaN          NaN          NaN  ...   \n",
       "3          NaN          NaN          NaN          NaN          NaN  ...   \n",
       "4          NaN          NaN          NaN          NaN          NaN  ...   \n",
       "5          NaN          NaN          NaN          NaN          NaN  ...   \n",
       "6  1163.186836   855.275656  1179.504098  1285.260799  1277.968419  ...   \n",
       "7          NaN          NaN          NaN          NaN          NaN  ...   \n",
       "8          NaN          NaN          NaN          NaN          NaN  ...   \n",
       "9  1854.641891  1967.108991  2131.380300  2281.011956  2343.819790  ...   \n",
       "\n",
       "           2014          2015          2016          2017          2018  \\\n",
       "0  26942.307976  28421.386493  28451.273745  29326.708058  30918.515218   \n",
       "1    628.146804    592.476165    520.251955    530.149863    502.057099   \n",
       "2   5059.080441   3100.830685   1709.515534   2283.214233   2487.500996   \n",
       "3   4578.633208   3952.803584   4124.055390   4531.032207   5287.660817   \n",
       "4  45680.534990  38885.530324  39931.216982  40632.231554  42904.828456   \n",
       "5  46865.964598  41525.138904  41054.539570  43063.967479  46722.268719   \n",
       "6  12334.798245  13789.060425  12790.264064  14613.035715  11795.162885   \n",
       "7   4017.229913   3666.141825   3679.952349   4041.995072   4391.923274   \n",
       "8  14004.811212  14861.882707  15862.651663  16110.312400  17514.355864   \n",
       "9  62515.314832  56708.961197  49876.712376  53934.154374  57206.990670   \n",
       "\n",
       "           2019          2020          2021          2022  Unnamed: 67  \n",
       "0  31902.762582  24487.863569  29342.100730           NaN          NaN  \n",
       "1    500.522981    516.866797    363.674087           NaN          NaN  \n",
       "2   2142.238757   1502.950754   1903.717405   2998.501158          NaN  \n",
       "3   5396.214227   5343.037704   6377.203096   6802.804519          NaN  \n",
       "4  41328.600499  37207.222000  42072.341103  41992.793358          NaN  \n",
       "5  45376.170839  37629.174168  44315.554184  53757.863251          NaN  \n",
       "6   9963.674231   8496.428157  10636.115530  13686.008674          NaN  \n",
       "7   4828.504889   4505.867746   4966.513471   7014.206592          NaN  \n",
       "8  18187.779712  15284.772384  16740.348196  18745.173509          NaN  \n",
       "9  54941.065720  51722.069000  60444.502355  64491.429886          NaN  \n",
       "\n",
       "[10 rows x 67 columns]"
      ]
     },
     "execution_count": 16,
     "metadata": {},
     "output_type": "execute_result"
    }
   ],
   "source": [
    "data = pd.read_csv(\"clean_data/gdp_per_capita.csv\")\n",
    "\n",
    "data.head(10)"
   ]
  },
  {
   "cell_type": "code",
   "execution_count": 58,
   "metadata": {},
   "outputs": [
    {
     "data": {
      "image/png": "[encoded data removed]",
      "text/plain": [
       "<Figure size 432x288 with 1 Axes>"
      ]
     },
     "metadata": {
      "needs_background": "light"
     },
     "output_type": "display_data"
    }
   ],
   "source": [
    "# example gdp graph\n",
    "exmpl = data.iloc[50]\n",
    "exmpl_country_name = exmpl.loc[\"Country Name\"]\n",
    "\n",
    "plt.plot(exmpl.drop([\"Country Name\", \"Country Code\"]))\n",
    "plt.title(f\"GDP per capita (current US$) of {exmpl_country_name}\")\n",
    "plt.show()"
   ]
  },
  {
   "cell_type": "code",
   "execution_count": 59,
   "metadata": {},
   "outputs": [
    {
     "data": {
      "image/png": "[encoded data removed]",
      "text/plain": [
       "<Figure size 432x288 with 1 Axes>"
      ]
     },
     "metadata": {
      "needs_background": "light"
     },
     "output_type": "display_data"
    }
   ],
   "source": [
    "values = list(exmpl.drop([\"Unnamed: 0\", \"Country Name\", \"Country Code\"]))\n",
    "X, y = [], []\n",
    "\n",
    "for indx, val in enumerate(values):\n",
    "    if pd.isna(val): continue\n",
    "    y.append(np.log(val))\n",
    "    X.append(indx)\n",
    "\n",
    "plt.scatter(X, y)\n",
    "plt.show()"
   ]
  },
  {
   "cell_type": "code",
   "execution_count": 60,
   "metadata": {},
   "outputs": [
    {
     "name": "stdout",
     "output_type": "stream",
     "text": [
      "48 12\n"
     ]
    }
   ],
   "source": [
    "X = np.array(X).reshape(-1, 1)\n",
    "y = np.array(y).reshape(-1, 1)\n",
    "\n",
    "# train / validation split, last 5 years for validation\n",
    "l = len(X)\n",
    "X, val_X = X[:l-15], X[l-15:l-3]\n",
    "y, val_y = y[:l-15], y[l-15:l-3]\n",
    "print(len(X), len(val_X))"
   ]
  },
  {
   "cell_type": "code",
   "execution_count": 61,
   "metadata": {},
   "outputs": [
    {
     "data": {
      "text/html": [
       "<style>#sk-container-id-9 {color: black;}#sk-container-id-9 pre{padding: 0;}#sk-container-id-9 div.sk-toggleable {background-color: white;}#sk-container-id-9 label.sk-toggleable__label {cursor: pointer;display: block;width: 100%;margin-bottom: 0;padding: 0.3em;box-sizing: border-box;text-align: center;}#sk-container-id-9 label.sk-toggleable__label-arrow:before {content: \"▸\";float: left;margin-right: 0.25em;color: #696969;}#sk-container-id-9 label.sk-toggleable__label-arrow:hover:before {color: black;}#sk-container-id-9 div.sk-estimator:hover label.sk-toggleable__label-arrow:before {color: black;}#sk-container-id-9 div.sk-toggleable__content {max-height: 0;max-width: 0;overflow: hidden;text-align: left;background-color: #f0f8ff;}#sk-container-id-9 div.sk-toggleable__content pre {margin: 0.2em;color: black;border-radius: 0.25em;background-color: #f0f8ff;}#sk-container-id-9 input.sk-toggleable__control:checked~div.sk-toggleable__content {max-height: 200px;max-width: 100%;overflow: auto;}#sk-container-id-9 input.sk-toggleable__control:checked~label.sk-toggleable__label-arrow:before {content: \"▾\";}#sk-container-id-9 div.sk-estimator input.sk-toggleable__control:checked~label.sk-toggleable__label {background-color: #d4ebff;}#sk-container-id-9 div.sk-label input.sk-toggleable__control:checked~label.sk-toggleable__label {background-color: #d4ebff;}#sk-container-id-9 input.sk-hidden--visually {border: 0;clip: rect(1px 1px 1px 1px);clip: rect(1px, 1px, 1px, 1px);height: 1px;margin: -1px;overflow: hidden;padding: 0;position: absolute;width: 1px;}#sk-container-id-9 div.sk-estimator {font-family: monospace;background-color: #f0f8ff;border: 1px dotted black;border-radius: 0.25em;box-sizing: border-box;margin-bottom: 0.5em;}#sk-container-id-9 div.sk-estimator:hover {background-color: #d4ebff;}#sk-container-id-9 div.sk-parallel-item::after {content: \"\";width: 100%;border-bottom: 1px solid gray;flex-grow: 1;}#sk-container-id-9 div.sk-label:hover label.sk-toggleable__label {background-color: #d4ebff;}#sk-container-id-9 div.sk-serial::before {content: \"\";position: absolute;border-left: 1px solid gray;box-sizing: border-box;top: 0;bottom: 0;left: 50%;z-index: 0;}#sk-container-id-9 div.sk-serial {display: flex;flex-direction: column;align-items: center;background-color: white;padding-right: 0.2em;padding-left: 0.2em;position: relative;}#sk-container-id-9 div.sk-item {position: relative;z-index: 1;}#sk-container-id-9 div.sk-parallel {display: flex;align-items: stretch;justify-content: center;background-color: white;position: relative;}#sk-container-id-9 div.sk-item::before, #sk-container-id-9 div.sk-parallel-item::before {content: \"\";position: absolute;border-left: 1px solid gray;box-sizing: border-box;top: 0;bottom: 0;left: 50%;z-index: -1;}#sk-container-id-9 div.sk-parallel-item {display: flex;flex-direction: column;z-index: 1;position: relative;background-color: white;}#sk-container-id-9 div.sk-parallel-item:first-child::after {align-self: flex-end;width: 50%;}#sk-container-id-9 div.sk-parallel-item:last-child::after {align-self: flex-start;width: 50%;}#sk-container-id-9 div.sk-parallel-item:only-child::after {width: 0;}#sk-container-id-9 div.sk-dashed-wrapped {border: 1px dashed gray;margin: 0 0.4em 0.5em 0.4em;box-sizing: border-box;padding-bottom: 0.4em;background-color: white;}#sk-container-id-9 div.sk-label label {font-family: monospace;font-weight: bold;display: inline-block;line-height: 1.2em;}#sk-container-id-9 div.sk-label-container {text-align: center;}#sk-container-id-9 div.sk-container {/* jupyter's `normalize.less` sets `[hidden] { display: none; }` but bootstrap.min.css set `[hidden] { display: none !important; }` so we also need the `!important` here to be able to override the default hidden behavior on the sphinx rendered scikit-learn.org. See: https://github.com/scikit-learn/scikit-learn/issues/21755 */display: inline-block !important;position: relative;}#sk-container-id-9 div.sk-text-repr-fallback {display: none;}</style><div id=\"sk-container-id-9\" class=\"sk-top-container\"><div class=\"sk-text-repr-fallback\"><pre>LinearRegression()</pre><b>In a Jupyter environment, please rerun this cell to show the HTML representation or trust the notebook. <br />On GitHub, the HTML representation is unable to render, please try loading this page with nbviewer.org.</b></div><div class=\"sk-container\" hidden><div class=\"sk-item\"><div class=\"sk-estimator sk-toggleable\"><input class=\"sk-toggleable__control sk-hidden--visually\" id=\"sk-estimator-id-9\" type=\"checkbox\" checked><label for=\"sk-estimator-id-9\" class=\"sk-toggleable__label sk-toggleable__label-arrow\">LinearRegression</label><div class=\"sk-toggleable__content\"><pre>LinearRegression()</pre></div></div></div></div></div>"
      ],
      "text/plain": [
       "LinearRegression()"
      ]
     },
     "execution_count": 61,
     "metadata": {},
     "output_type": "execute_result"
    }
   ],
   "source": [
    "from sklearn.linear_model import LinearRegression\n",
    "\n",
    "regressor = LinearRegression()\n",
    "regressor.fit(X, y)"
   ]
  },
  {
   "cell_type": "code",
   "execution_count": 62,
   "metadata": {},
   "outputs": [
    {
     "data": {
      "image/png": "[encoded data removed]",
      "text/plain": [
       "<Figure size 432x288 with 1 Axes>"
      ]
     },
     "metadata": {
      "needs_background": "light"
     },
     "output_type": "display_data"
    }
   ],
   "source": [
    "to_predict = np.arange(0.0, 64.0, 1.0)[:, np.newaxis]\n",
    "\n",
    "prediction = regressor.predict(to_predict)\n",
    "\n",
    "plt.scatter(X, y, s=20)\n",
    "plt.scatter(val_X, val_y, s=20, color=\"green\")\n",
    "plt.plot(to_predict, prediction, color=\"red\")\n",
    "plt.show()"
   ]
  },
  {
   "cell_type": "code",
   "execution_count": 63,
   "metadata": {},
   "outputs": [
    {
     "name": "stdout",
     "output_type": "stream",
     "text": [
      "Train Acc - R2: 0.9250931479007455, MAE: 0.19422744614248355, MAPE: 0.02888404000587901\n",
      "Validation Acc - R2: 0.8086982148188228, MAE: 0.06087796592631056, MAPE: 0.006912977868712026\n"
     ]
    }
   ],
   "source": [
    "from sklearn.metrics import r2_score, mean_absolute_error, mean_absolute_percentage_error\n",
    "\n",
    "y_pred = regressor.predict(X)\n",
    "r2 = r2_score(y, y_pred)\n",
    "mae = mean_absolute_error(y, y_pred)\n",
    "mape = mean_absolute_percentage_error(y, y_pred)\n",
    "print(f\"Train Acc - R2: {r2}, MAE: {mae}, MAPE: {mape}\")\n",
    "\n",
    "y_pred = regressor.predict(val_X)\n",
    "r2 = r2_score(val_y, y_pred)\n",
    "mae = mean_absolute_error(val_y, y_pred)\n",
    "mape = mean_absolute_percentage_error(val_y, y_pred)\n",
    "print(f\"Validation Acc - R2: {r2}, MAE: {mae}, MAPE: {mape}\")"
   ]
  },
  {
   "cell_type": "code",
   "execution_count": 67,
   "metadata": {},
   "outputs": [
    {
     "name": "stderr",
     "output_type": "stream",
     "text": [
      "c:\\Users\\malik\\AppData\\Local\\Programs\\Python\\Python38\\lib\\site-packages\\numpy\\core\\shape_base.py:65: VisibleDeprecationWarning: Creating an ndarray from ragged nested sequences (which is a list-or-tuple of lists-or-tuples-or ndarrays with different lengths or shapes) is deprecated. If you meant to do this, you must specify 'dtype=object' when creating the ndarray.\n",
      "  ary = asanyarray(ary)\n"
     ]
    },
    {
     "data": {
      "image/png": "[encoded data removed]",
      "text/plain": [
       "<Figure size 432x288 with 1 Axes>"
      ]
     },
     "metadata": {
      "needs_background": "light"
     },
     "output_type": "display_data"
    }
   ],
   "source": [
    "# merge original & interpolated values\n",
    "merged_values = []\n",
    "\n",
    "for indx, val in enumerate(values):\n",
    "    if pd.isna(val):\n",
    "        merged_values.append(np.exp(prediction[indx]))\n",
    "    else:\n",
    "        merged_values.append(val)\n",
    "\n",
    "plt.plot(merged_values, color=\"red\")\n",
    "plt.plot(values)\n",
    "plt.show()"
   ]
  },
  {
   "cell_type": "code",
   "execution_count": 68,
   "metadata": {},
   "outputs": [
    {
     "data": {
      "text/plain": [
       "0               203.879751\n",
       "1               191.907441\n",
       "2               234.041925\n",
       "3               258.760223\n",
       "4                273.32472\n",
       "              ...         \n",
       "59             8173.344646\n",
       "60             7167.914932\n",
       "61             8476.749688\n",
       "62            10120.551163\n",
       "63    [12046.971012482689]\n",
       "Length: 64, dtype: object"
      ]
     },
     "execution_count": 68,
     "metadata": {},
     "output_type": "execute_result"
    }
   ],
   "source": [
    "pd.Series(merged_values)"
   ]
  }
 ],
 "metadata": {
  "kernelspec": {
   "display_name": "Python 3",
   "language": "python",
   "name": "python3"
  },
  "language_info": {
   "codemirror_mode": {
    "name": "ipython",
    "version": 3
   },
   "file_extension": ".py",
   "mimetype": "text/x-python",
   "name": "python",
   "nbconvert_exporter": "python",
   "pygments_lexer": "ipython3",
   "version": "3.8.6"
  },
  "orig_nbformat": 4
 },
 "nbformat": 4,
 "nbformat_minor": 2
}
