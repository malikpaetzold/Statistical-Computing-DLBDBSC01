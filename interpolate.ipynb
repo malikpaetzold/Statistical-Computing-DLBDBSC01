{
 "cells": [
  {
   "cell_type": "code",
   "execution_count": 22,
   "metadata": {},
   "outputs": [],
   "source": [
    "import os\n",
    "import pandas as pd\n",
    "import matplotlib.pyplot as plt\n",
    "import numpy as np"
   ]
  },
  {
   "cell_type": "code",
   "execution_count": 2,
   "metadata": {},
   "outputs": [
    {
     "data": {
      "text/html": [
       "<div>\n",
       "<style scoped>\n",
       "    .dataframe tbody tr th:only-of-type {\n",
       "        vertical-align: middle;\n",
       "    }\n",
       "\n",
       "    .dataframe tbody tr th {\n",
       "        vertical-align: top;\n",
       "    }\n",
       "\n",
       "    .dataframe thead th {\n",
       "        text-align: right;\n",
       "    }\n",
       "</style>\n",
       "<table border=\"1\" class=\"dataframe\">\n",
       "  <thead>\n",
       "    <tr style=\"text-align: right;\">\n",
       "      <th></th>\n",
       "      <th>Unnamed: 0</th>\n",
       "      <th>Country Name</th>\n",
       "      <th>Country Code</th>\n",
       "      <th>1960</th>\n",
       "      <th>1961</th>\n",
       "      <th>1962</th>\n",
       "      <th>1963</th>\n",
       "      <th>1964</th>\n",
       "      <th>1965</th>\n",
       "      <th>1966</th>\n",
       "      <th>...</th>\n",
       "      <th>2014</th>\n",
       "      <th>2015</th>\n",
       "      <th>2016</th>\n",
       "      <th>2017</th>\n",
       "      <th>2018</th>\n",
       "      <th>2019</th>\n",
       "      <th>2020</th>\n",
       "      <th>2021</th>\n",
       "      <th>2022</th>\n",
       "      <th>Unnamed: 67</th>\n",
       "    </tr>\n",
       "  </thead>\n",
       "  <tbody>\n",
       "    <tr>\n",
       "      <th>0</th>\n",
       "      <td>0</td>\n",
       "      <td>Aruba</td>\n",
       "      <td>ABW</td>\n",
       "      <td>NaN</td>\n",
       "      <td>NaN</td>\n",
       "      <td>NaN</td>\n",
       "      <td>NaN</td>\n",
       "      <td>NaN</td>\n",
       "      <td>NaN</td>\n",
       "      <td>NaN</td>\n",
       "      <td>...</td>\n",
       "      <td>26942.307976</td>\n",
       "      <td>28421.386493</td>\n",
       "      <td>28451.273745</td>\n",
       "      <td>29326.708058</td>\n",
       "      <td>30918.515218</td>\n",
       "      <td>31902.762582</td>\n",
       "      <td>24487.863569</td>\n",
       "      <td>29342.100730</td>\n",
       "      <td>NaN</td>\n",
       "      <td>NaN</td>\n",
       "    </tr>\n",
       "    <tr>\n",
       "      <th>1</th>\n",
       "      <td>2</td>\n",
       "      <td>Afghanistan</td>\n",
       "      <td>AFG</td>\n",
       "      <td>62.369375</td>\n",
       "      <td>62.443703</td>\n",
       "      <td>60.950364</td>\n",
       "      <td>82.021738</td>\n",
       "      <td>85.511073</td>\n",
       "      <td>105.243196</td>\n",
       "      <td>143.103233</td>\n",
       "      <td>...</td>\n",
       "      <td>628.146804</td>\n",
       "      <td>592.476165</td>\n",
       "      <td>520.251955</td>\n",
       "      <td>530.149863</td>\n",
       "      <td>502.057099</td>\n",
       "      <td>500.522981</td>\n",
       "      <td>516.866797</td>\n",
       "      <td>363.674087</td>\n",
       "      <td>NaN</td>\n",
       "      <td>NaN</td>\n",
       "    </tr>\n",
       "    <tr>\n",
       "      <th>2</th>\n",
       "      <td>4</td>\n",
       "      <td>Angola</td>\n",
       "      <td>AGO</td>\n",
       "      <td>NaN</td>\n",
       "      <td>NaN</td>\n",
       "      <td>NaN</td>\n",
       "      <td>NaN</td>\n",
       "      <td>NaN</td>\n",
       "      <td>NaN</td>\n",
       "      <td>NaN</td>\n",
       "      <td>...</td>\n",
       "      <td>5059.080441</td>\n",
       "      <td>3100.830685</td>\n",
       "      <td>1709.515534</td>\n",
       "      <td>2283.214233</td>\n",
       "      <td>2487.500996</td>\n",
       "      <td>2142.238757</td>\n",
       "      <td>1502.950754</td>\n",
       "      <td>1903.717405</td>\n",
       "      <td>2998.501158</td>\n",
       "      <td>NaN</td>\n",
       "    </tr>\n",
       "    <tr>\n",
       "      <th>3</th>\n",
       "      <td>5</td>\n",
       "      <td>Albania</td>\n",
       "      <td>ALB</td>\n",
       "      <td>NaN</td>\n",
       "      <td>NaN</td>\n",
       "      <td>NaN</td>\n",
       "      <td>NaN</td>\n",
       "      <td>NaN</td>\n",
       "      <td>NaN</td>\n",
       "      <td>NaN</td>\n",
       "      <td>...</td>\n",
       "      <td>4578.633208</td>\n",
       "      <td>3952.803584</td>\n",
       "      <td>4124.055390</td>\n",
       "      <td>4531.032207</td>\n",
       "      <td>5287.660817</td>\n",
       "      <td>5396.214227</td>\n",
       "      <td>5343.037704</td>\n",
       "      <td>6377.203096</td>\n",
       "      <td>6802.804519</td>\n",
       "      <td>NaN</td>\n",
       "    </tr>\n",
       "    <tr>\n",
       "      <th>4</th>\n",
       "      <td>6</td>\n",
       "      <td>Andorra</td>\n",
       "      <td>AND</td>\n",
       "      <td>NaN</td>\n",
       "      <td>NaN</td>\n",
       "      <td>NaN</td>\n",
       "      <td>NaN</td>\n",
       "      <td>NaN</td>\n",
       "      <td>NaN</td>\n",
       "      <td>NaN</td>\n",
       "      <td>...</td>\n",
       "      <td>45680.534990</td>\n",
       "      <td>38885.530324</td>\n",
       "      <td>39931.216982</td>\n",
       "      <td>40632.231554</td>\n",
       "      <td>42904.828456</td>\n",
       "      <td>41328.600499</td>\n",
       "      <td>37207.222000</td>\n",
       "      <td>42072.341103</td>\n",
       "      <td>41992.793358</td>\n",
       "      <td>NaN</td>\n",
       "    </tr>\n",
       "    <tr>\n",
       "      <th>5</th>\n",
       "      <td>8</td>\n",
       "      <td>United Arab Emirates</td>\n",
       "      <td>ARE</td>\n",
       "      <td>NaN</td>\n",
       "      <td>NaN</td>\n",
       "      <td>NaN</td>\n",
       "      <td>NaN</td>\n",
       "      <td>NaN</td>\n",
       "      <td>NaN</td>\n",
       "      <td>NaN</td>\n",
       "      <td>...</td>\n",
       "      <td>46865.964598</td>\n",
       "      <td>41525.138904</td>\n",
       "      <td>41054.539570</td>\n",
       "      <td>43063.967479</td>\n",
       "      <td>46722.268719</td>\n",
       "      <td>45376.170839</td>\n",
       "      <td>37629.174168</td>\n",
       "      <td>44315.554184</td>\n",
       "      <td>53757.863251</td>\n",
       "      <td>NaN</td>\n",
       "    </tr>\n",
       "    <tr>\n",
       "      <th>6</th>\n",
       "      <td>9</td>\n",
       "      <td>Argentina</td>\n",
       "      <td>ARG</td>\n",
       "      <td>NaN</td>\n",
       "      <td>NaN</td>\n",
       "      <td>1163.186836</td>\n",
       "      <td>855.275656</td>\n",
       "      <td>1179.504098</td>\n",
       "      <td>1285.260799</td>\n",
       "      <td>1277.968419</td>\n",
       "      <td>...</td>\n",
       "      <td>12334.798245</td>\n",
       "      <td>13789.060425</td>\n",
       "      <td>12790.264064</td>\n",
       "      <td>14613.035715</td>\n",
       "      <td>11795.162885</td>\n",
       "      <td>9963.674231</td>\n",
       "      <td>8496.428157</td>\n",
       "      <td>10636.115530</td>\n",
       "      <td>13686.008674</td>\n",
       "      <td>NaN</td>\n",
       "    </tr>\n",
       "    <tr>\n",
       "      <th>7</th>\n",
       "      <td>10</td>\n",
       "      <td>Armenia</td>\n",
       "      <td>ARM</td>\n",
       "      <td>NaN</td>\n",
       "      <td>NaN</td>\n",
       "      <td>NaN</td>\n",
       "      <td>NaN</td>\n",
       "      <td>NaN</td>\n",
       "      <td>NaN</td>\n",
       "      <td>NaN</td>\n",
       "      <td>...</td>\n",
       "      <td>4017.229913</td>\n",
       "      <td>3666.141825</td>\n",
       "      <td>3679.952349</td>\n",
       "      <td>4041.995072</td>\n",
       "      <td>4391.923274</td>\n",
       "      <td>4828.504889</td>\n",
       "      <td>4505.867746</td>\n",
       "      <td>4966.513471</td>\n",
       "      <td>7014.206592</td>\n",
       "      <td>NaN</td>\n",
       "    </tr>\n",
       "    <tr>\n",
       "      <th>8</th>\n",
       "      <td>11</td>\n",
       "      <td>American Samoa</td>\n",
       "      <td>ASM</td>\n",
       "      <td>NaN</td>\n",
       "      <td>NaN</td>\n",
       "      <td>NaN</td>\n",
       "      <td>NaN</td>\n",
       "      <td>NaN</td>\n",
       "      <td>NaN</td>\n",
       "      <td>NaN</td>\n",
       "      <td>...</td>\n",
       "      <td>12313.997357</td>\n",
       "      <td>13101.541816</td>\n",
       "      <td>13300.824611</td>\n",
       "      <td>12372.884783</td>\n",
       "      <td>13195.935900</td>\n",
       "      <td>13672.576657</td>\n",
       "      <td>15501.526337</td>\n",
       "      <td>15743.310758</td>\n",
       "      <td>NaN</td>\n",
       "      <td>NaN</td>\n",
       "    </tr>\n",
       "    <tr>\n",
       "      <th>9</th>\n",
       "      <td>12</td>\n",
       "      <td>Antigua and Barbuda</td>\n",
       "      <td>ATG</td>\n",
       "      <td>NaN</td>\n",
       "      <td>NaN</td>\n",
       "      <td>NaN</td>\n",
       "      <td>NaN</td>\n",
       "      <td>NaN</td>\n",
       "      <td>NaN</td>\n",
       "      <td>NaN</td>\n",
       "      <td>...</td>\n",
       "      <td>14004.811212</td>\n",
       "      <td>14861.882707</td>\n",
       "      <td>15862.651663</td>\n",
       "      <td>16110.312400</td>\n",
       "      <td>17514.355864</td>\n",
       "      <td>18187.779712</td>\n",
       "      <td>15284.772384</td>\n",
       "      <td>16740.348196</td>\n",
       "      <td>18745.173509</td>\n",
       "      <td>NaN</td>\n",
       "    </tr>\n",
       "  </tbody>\n",
       "</table>\n",
       "<p>10 rows × 67 columns</p>\n",
       "</div>"
      ],
      "text/plain": [
       "   Unnamed: 0          Country Name Country Code       1960       1961  \\\n",
       "0           0                 Aruba          ABW        NaN        NaN   \n",
       "1           2           Afghanistan          AFG  62.369375  62.443703   \n",
       "2           4                Angola          AGO        NaN        NaN   \n",
       "3           5               Albania          ALB        NaN        NaN   \n",
       "4           6               Andorra          AND        NaN        NaN   \n",
       "5           8  United Arab Emirates          ARE        NaN        NaN   \n",
       "6           9             Argentina          ARG        NaN        NaN   \n",
       "7          10               Armenia          ARM        NaN        NaN   \n",
       "8          11        American Samoa          ASM        NaN        NaN   \n",
       "9          12   Antigua and Barbuda          ATG        NaN        NaN   \n",
       "\n",
       "          1962        1963         1964         1965         1966  ...  \\\n",
       "0          NaN         NaN          NaN          NaN          NaN  ...   \n",
       "1    60.950364   82.021738    85.511073   105.243196   143.103233  ...   \n",
       "2          NaN         NaN          NaN          NaN          NaN  ...   \n",
       "3          NaN         NaN          NaN          NaN          NaN  ...   \n",
       "4          NaN         NaN          NaN          NaN          NaN  ...   \n",
       "5          NaN         NaN          NaN          NaN          NaN  ...   \n",
       "6  1163.186836  855.275656  1179.504098  1285.260799  1277.968419  ...   \n",
       "7          NaN         NaN          NaN          NaN          NaN  ...   \n",
       "8          NaN         NaN          NaN          NaN          NaN  ...   \n",
       "9          NaN         NaN          NaN          NaN          NaN  ...   \n",
       "\n",
       "           2014          2015          2016          2017          2018  \\\n",
       "0  26942.307976  28421.386493  28451.273745  29326.708058  30918.515218   \n",
       "1    628.146804    592.476165    520.251955    530.149863    502.057099   \n",
       "2   5059.080441   3100.830685   1709.515534   2283.214233   2487.500996   \n",
       "3   4578.633208   3952.803584   4124.055390   4531.032207   5287.660817   \n",
       "4  45680.534990  38885.530324  39931.216982  40632.231554  42904.828456   \n",
       "5  46865.964598  41525.138904  41054.539570  43063.967479  46722.268719   \n",
       "6  12334.798245  13789.060425  12790.264064  14613.035715  11795.162885   \n",
       "7   4017.229913   3666.141825   3679.952349   4041.995072   4391.923274   \n",
       "8  12313.997357  13101.541816  13300.824611  12372.884783  13195.935900   \n",
       "9  14004.811212  14861.882707  15862.651663  16110.312400  17514.355864   \n",
       "\n",
       "           2019          2020          2021          2022  Unnamed: 67  \n",
       "0  31902.762582  24487.863569  29342.100730           NaN          NaN  \n",
       "1    500.522981    516.866797    363.674087           NaN          NaN  \n",
       "2   2142.238757   1502.950754   1903.717405   2998.501158          NaN  \n",
       "3   5396.214227   5343.037704   6377.203096   6802.804519          NaN  \n",
       "4  41328.600499  37207.222000  42072.341103  41992.793358          NaN  \n",
       "5  45376.170839  37629.174168  44315.554184  53757.863251          NaN  \n",
       "6   9963.674231   8496.428157  10636.115530  13686.008674          NaN  \n",
       "7   4828.504889   4505.867746   4966.513471   7014.206592          NaN  \n",
       "8  13672.576657  15501.526337  15743.310758           NaN          NaN  \n",
       "9  18187.779712  15284.772384  16740.348196  18745.173509          NaN  \n",
       "\n",
       "[10 rows x 67 columns]"
      ]
     },
     "execution_count": 2,
     "metadata": {},
     "output_type": "execute_result"
    }
   ],
   "source": [
    "data = pd.read_csv(\"clean_data/gdp_per_capita.csv\")\n",
    "\n",
    "data.head(10)"
   ]
  },
  {
   "cell_type": "code",
   "execution_count": 12,
   "metadata": {},
   "outputs": [
    {
     "name": "stdout",
     "output_type": "stream",
     "text": [
      "Germany\n"
     ]
    },
    {
     "data": {
      "image/png": "[encoded data removed]",
      "text/plain": [
       "<Figure size 432x288 with 1 Axes>"
      ]
     },
     "metadata": {
      "needs_background": "light"
     },
     "output_type": "display_data"
    }
   ],
   "source": [
    "# example gdp graph\n",
    "exmpl = data.iloc[50]\n",
    "exmpl_country_name = exmpl.loc[\"Country Name\"]\n",
    "\n",
    "plt.plot(exmpl.drop([\"Country Name\", \"Country Code\"]))\n",
    "plt.title(f\"GDP per capita (current US$) of {exmpl_country_name}\")\n",
    "plt.show()"
   ]
  },
  {
   "cell_type": "code",
   "execution_count": 20,
   "metadata": {},
   "outputs": [
    {
     "data": {
      "image/png": "[encoded data removed]",
      "text/plain": [
       "<Figure size 432x288 with 1 Axes>"
      ]
     },
     "metadata": {
      "needs_background": "light"
     },
     "output_type": "display_data"
    }
   ],
   "source": [
    "values = list(exmpl.drop([\"Unnamed: 0\", \"Country Name\", \"Country Code\"]))\n",
    "X, y = [], []\n",
    "\n",
    "for indx, val in enumerate(values):\n",
    "    if pd.isna(val): continue\n",
    "    y.append(val)\n",
    "    X.append(indx)\n",
    "\n",
    "plt.scatter(X, y)\n",
    "plt.show()"
   ]
  },
  {
   "cell_type": "code",
   "execution_count": 44,
   "metadata": {},
   "outputs": [
    {
     "data": {
      "text/plain": [
       "LinearRegression()"
      ]
     },
     "execution_count": 44,
     "metadata": {},
     "output_type": "execute_result"
    }
   ],
   "source": [
    "from sklearn.neighbors import KNeighborsRegressor\n",
    "from sklearn.linear_model import LinearRegression\n",
    "\n",
    "X = np.array(X).reshape(-1, 1)\n",
    "y = np.array(y).reshape(-1, 1)\n",
    "\n",
    "\n",
    "regressor = KNeighborsRegressor(n_neighbors=3)\n",
    "regressor2 = LinearRegression()\n",
    "regressor.fit(X, y)\n",
    "regressor2.fit(X, y)"
   ]
  },
  {
   "cell_type": "code",
   "execution_count": 48,
   "metadata": {},
   "outputs": [
    {
     "data": {
      "image/png": "[encoded data removed]",
      "text/plain": [
       "<Figure size 432x288 with 1 Axes>"
      ]
     },
     "metadata": {
      "needs_background": "light"
     },
     "output_type": "display_data"
    }
   ],
   "source": [
    "to_predict = np.arange(0.0, 64.0, 1.0)[:, np.newaxis]\n",
    "\n",
    "prediction = regressor.predict(to_predict)\n",
    "prediction2 = regressor2.predict(to_predict)\n",
    "\n",
    "plt.scatter(X, y, s=20)\n",
    "plt.plot(to_predict, prediction, color=\"red\")\n",
    "plt.plot(to_predict, prediction2, color=\"orange\")\n",
    "plt.show()"
   ]
  },
  {
   "cell_type": "code",
   "execution_count": 50,
   "metadata": {},
   "outputs": [
    {
     "name": "stderr",
     "output_type": "stream",
     "text": [
      "c:\\Users\\malik\\AppData\\Local\\Programs\\Python\\Python38\\lib\\site-packages\\numpy\\core\\shape_base.py:65: VisibleDeprecationWarning: Creating an ndarray from ragged nested sequences (which is a list-or-tuple of lists-or-tuples-or ndarrays with different lengths or shapes) is deprecated. If you meant to do this, you must specify 'dtype=object' when creating the ndarray.\n",
      "  ary = asanyarray(ary)\n"
     ]
    },
    {
     "data": {
      "image/png": "[encoded data removed]",
      "text/plain": [
       "<Figure size 432x288 with 1 Axes>"
      ]
     },
     "metadata": {
      "needs_background": "light"
     },
     "output_type": "display_data"
    }
   ],
   "source": [
    "# merge original & interpolated values\n",
    "merged_values = []\n",
    "\n",
    "for indx, val in enumerate(values):\n",
    "    if pd.isna(val):\n",
    "        merged_values.append(prediction[indx])\n",
    "    else:\n",
    "        merged_values.append(val)\n",
    "\n",
    "plt.plot(merged_values, color=\"red\")\n",
    "plt.plot(values)\n",
    "plt.show()"
   ]
  },
  {
   "cell_type": "code",
   "execution_count": 51,
   "metadata": {},
   "outputs": [
    {
     "data": {
      "text/plain": [
       "0     [3254.4272978084605]\n",
       "1     [3254.4272978084605]\n",
       "2     [3254.4272978084605]\n",
       "3     [3254.4272978084605]\n",
       "4     [3254.4272978084605]\n",
       "              ...         \n",
       "59            46793.686762\n",
       "60            46772.825351\n",
       "61            51203.554473\n",
       "62            48432.455873\n",
       "63    [48802.945232372535]\n",
       "Length: 64, dtype: object"
      ]
     },
     "execution_count": 51,
     "metadata": {},
     "output_type": "execute_result"
    }
   ],
   "source": [
    "pd.Series(merged_values)"
   ]
  }
 ],
 "metadata": {
  "kernelspec": {
   "display_name": "Python 3",
   "language": "python",
   "name": "python3"
  },
  "language_info": {
   "codemirror_mode": {
    "name": "ipython",
    "version": 3
   },
   "file_extension": ".py",
   "mimetype": "text/x-python",
   "name": "python",
   "nbconvert_exporter": "python",
   "pygments_lexer": "ipython3",
   "version": "3.8.6"
  },
  "orig_nbformat": 4
 },
 "nbformat": 4,
 "nbformat_minor": 2
}
