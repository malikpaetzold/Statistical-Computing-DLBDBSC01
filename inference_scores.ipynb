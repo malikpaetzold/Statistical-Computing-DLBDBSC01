{
 "cells": [
  {
   "cell_type": "code",
   "execution_count": 7,
   "metadata": {},
   "outputs": [],
   "source": [
    "import os\n",
    "import numpy as np\n",
    "import pandas as pd\n",
    "import matplotlib.pyplot as plt"
   ]
  },
  {
   "cell_type": "code",
   "execution_count": 8,
   "metadata": {},
   "outputs": [
    {
     "data": {
      "text/plain": [
       "dict_keys(['electricity', 'fertility_rate', 'gdp', 'gov_exp_edu', 'immunization', 'life_expectancy', 'school_enrollment_secondary', 'school_enrollment_tertiary'])"
      ]
     },
     "execution_count": 8,
     "metadata": {},
     "output_type": "execute_result"
    }
   ],
   "source": [
    "path = \"interpolated_data/\"\n",
    "data = {}\n",
    "\n",
    "for fname in os.listdir(path):\n",
    "    if \"logs-\" not in fname: continue\n",
    "    fdata = pd.read_csv(os.path.join(path, fname))\n",
    "    data[fname.replace(\".csv\", \"\").replace(\"logs-\", \"\")] = fdata\n",
    "\n",
    "data.keys()"
   ]
  },
  {
   "cell_type": "code",
   "execution_count": 9,
   "metadata": {},
   "outputs": [],
   "source": [
    "def scores_mapping(data):\n",
    "    # lab = [\"0 - 0.2\", \"0.2 - 0.4\", \"0.4 - 0.6\", \"0.6 - 0.8\", \"0.8 - 1.0\"]\n",
    "    hist = [0, 0, 0, 0, 0]\n",
    "    num_total = len(data.iloc[0])\n",
    "\n",
    "    for elem in data.iloc[0]:\n",
    "        e = float(elem)\n",
    "        if e < 0.2: hist[0] += 1\n",
    "        elif e < 0.4: hist[1] += 1\n",
    "        elif e < 0.6: hist[2] += 1\n",
    "        elif e < 0.8: hist[3] += 1\n",
    "        elif e < 1.0: hist[4] += 1\n",
    "    \n",
    "    hist = [e / num_total for e in hist] # relative percentages\n",
    "    \n",
    "    return hist"
   ]
  },
  {
   "cell_type": "code",
   "execution_count": 10,
   "metadata": {},
   "outputs": [
    {
     "data": {
      "image/png": "[encoded data removed]",
      "text/plain": [
       "<Figure size 432x288 with 1 Axes>"
      ]
     },
     "metadata": {
      "needs_background": "light"
     },
     "output_type": "display_data"
    }
   ],
   "source": [
    "hist = scores_mapping(data[\"gdp\"])\n",
    "lab = [\"0 - 0.2\", \"0.2 - 0.4\", \"0.4 - 0.6\", \"0.6 - 0.8\", \"0.8 - 1.0\"]\n",
    "plt.bar(lab, hist)\n",
    "plt.xlabel(\"R2 Score value\")\n",
    "plt.show()"
   ]
  },
  {
   "cell_type": "code",
   "execution_count": 14,
   "metadata": {},
   "outputs": [
    {
     "data": {
      "image/png": "[encoded data removed]",
      "text/plain": [
       "<Figure size 432x288 with 1 Axes>"
      ]
     },
     "metadata": {
      "needs_background": "light"
     },
     "output_type": "display_data"
    }
   ],
   "source": [
    "hist = scores_mapping(data[\"fertility_rate\"])\n",
    "lab = [\"0 - 0.2\", \"0.2 - 0.4\", \"0.4 - 0.6\", \"0.6 - 0.8\", \"0.8 - 1.0\"]\n",
    "plt.bar(lab, hist)\n",
    "plt.xlabel(\"R2 Score value\")\n",
    "plt.show()"
   ]
  }
 ],
 "metadata": {
  "kernelspec": {
   "display_name": "Python 3",
   "language": "python",
   "name": "python3"
  },
  "language_info": {
   "codemirror_mode": {
    "name": "ipython",
    "version": 3
   },
   "file_extension": ".py",
   "mimetype": "text/x-python",
   "name": "python",
   "nbconvert_exporter": "python",
   "pygments_lexer": "ipython3",
   "version": "3.8.6"
  },
  "orig_nbformat": 4
 },
 "nbformat": 4,
 "nbformat_minor": 2
}
